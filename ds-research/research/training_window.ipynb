{
 "cells": [
  {
   "cell_type": "markdown",
   "metadata": {},
   "source": [
    "## How long should the training window be (for tips)?\n",
    "\n",
    "Pulling a year of data takes a lot of time, and we'd rather not pull unnecessary data to train a model if the performance is similar. The following notebook is a very quick example of whether a year of training is worthwhile - but it is not conclusive.\n",
    "\n",
    "We consider training from `2022-11` to `2023-11` v.s just training on `2023-11`, and then see the MSE of the model for the prediction of `2023-12`."
   ]
  },
  {
   "cell_type": "markdown",
   "metadata": {},
   "source": [
    "### Tips"
   ]
  },
  {
   "cell_type": "code",
   "execution_count": 34,
   "metadata": {},
   "outputs": [],
   "source": [
    "import pandas as pd\n",
    "import matplotlib.pyplot as plt\n",
    "from collections import defaultdict\n",
    "import xgboost as xgb\n",
    "from scipy.stats import zscore\n",
    "import numpy as np\n",
    "import statsmodels.api as sm"
   ]
  },
  {
   "cell_type": "code",
   "execution_count": 21,
   "metadata": {},
   "outputs": [],
   "source": [
    "date_ptr = '2022-11'\n",
    "\n",
    "month_data = defaultdict()\n",
    "\n",
    "while date_ptr != '2024-01':\n",
    "    date_dt = pd.to_datetime(date_ptr)\n",
    "    month_df = pd.read_parquet(f'../data/tr_data/{date_ptr}.parquet')\n",
    "    \n",
    "    # take out outliers\n",
    "    month_df['tip_amount_zscore'] = zscore(month_df['tip_amount'])\n",
    "    month_df = month_df[np.abs(month_df['tip_amount_zscore']) < 2]\n",
    "    month_data[date_ptr] = month_df\n",
    "    date_dt = date_dt + pd.DateOffset(months=1)\n",
    "    date_ptr = date_dt.strftime('%Y-%m')"
   ]
  },
  {
   "cell_type": "markdown",
   "metadata": {},
   "source": [
    "#### Collecting data"
   ]
  },
  {
   "cell_type": "code",
   "execution_count": null,
   "metadata": {},
   "outputs": [],
   "source": [
    "date_ptr = '2022-11'\n",
    "year_data = []\n",
    "while date_ptr != '2023-12':\n",
    "    year_data.append(month_data[date_ptr])\n",
    "    date_ptr = (pd.to_datetime(date_ptr) + pd.DateOffset(months=1)).strftime('%Y-%m')\n",
    "\n",
    "year_df = pd.concat(year_data)\n",
    "month_df = month_data['2023-11']"
   ]
  },
  {
   "cell_type": "markdown",
   "metadata": {},
   "source": [
    "#### Training the models"
   ]
  },
  {
   "cell_type": "code",
   "execution_count": 23,
   "metadata": {},
   "outputs": [],
   "source": [
    "year_model = xgb.XGBRegressor(\n",
    "    n_estimators=100,\n",
    "    max_depth=4,\n",
    "    learning_rate=0.1,\n",
    "    objective='reg:squarederror',\n",
    "    random_state=42\n",
    ").fit(year_df[['trip_distance']], year_df['tip_amount'])\n",
    "\n",
    "month_model = xgb.XGBRegressor(\n",
    "    n_estimators=100,\n",
    "    max_depth=4,\n",
    "    learning_rate=0.1,\n",
    "    objective='reg:squarederror',\n",
    "    random_state=42\n",
    ").fit(month_df[['trip_distance']], month_df['tip_amount'])"
   ]
  },
  {
   "cell_type": "markdown",
   "metadata": {},
   "source": [
    "#### Checking the MSE"
   ]
  },
  {
   "cell_type": "code",
   "execution_count": 24,
   "metadata": {},
   "outputs": [],
   "source": [
    "from sklearn.metrics import mean_squared_error\n",
    "\n",
    "test_data = month_data['2023-12']\n",
    "\n",
    "year_pred = year_model.predict(test_data[['trip_distance']])\n",
    "month_pred = month_model.predict(test_data[['trip_distance']])"
   ]
  },
  {
   "cell_type": "code",
   "execution_count": 25,
   "metadata": {},
   "outputs": [
    {
     "name": "stdout",
     "output_type": "stream",
     "text": [
      "Year MSE: 9.38975752680463\n",
      "Month MSE: 8.910082613604944\n"
     ]
    }
   ],
   "source": [
    "# Year data\n",
    "print(f'Year MSE: {mean_squared_error(year_pred, test_data['tip_amount'])}')\n",
    "print(f'Month MSE: {mean_squared_error(month_pred, test_data['tip_amount'])}')"
   ]
  },
  {
   "cell_type": "markdown",
   "metadata": {},
   "source": [
    "Actually, the month model is more accurate... either way - the month data seems to be enough to fit an accurate model for tips."
   ]
  },
  {
   "cell_type": "markdown",
   "metadata": {},
   "source": [
    "### Fares\n",
    "\n",
    "Do fares also stay rigid under month data, particularly since we regress on the lower quintile?"
   ]
  },
  {
   "cell_type": "code",
   "execution_count": 26,
   "metadata": {},
   "outputs": [],
   "source": [
    "date_ptr = '2022-11'\n",
    "\n",
    "month_fdata = defaultdict()\n",
    "\n",
    "while date_ptr != '2024-01':\n",
    "    date_dt = pd.to_datetime(date_ptr)\n",
    "    month_df = pd.read_parquet(f'../data/tr_data/{date_ptr}.parquet')\n",
    "    month_fdata[date_ptr] = month_df\n",
    "    date_dt = date_dt + pd.DateOffset(months=1)\n",
    "    date_ptr = date_dt.strftime('%Y-%m')"
   ]
  },
  {
   "cell_type": "code",
   "execution_count": 29,
   "metadata": {},
   "outputs": [],
   "source": [
    "date_ptr = '2022-11'\n",
    "year_fdata = []\n",
    "while date_ptr != '2023-12':\n",
    "    year_fdata.append(month_data[date_ptr])\n",
    "    date_ptr = (pd.to_datetime(date_ptr) + pd.DateOffset(months=1)).strftime('%Y-%m')\n",
    "\n",
    "year_fdf = pd.concat(year_fdata)\n",
    "month_fdf = month_fdata['2023-11']"
   ]
  },
  {
   "cell_type": "markdown",
   "metadata": {},
   "source": [
    "#### Fit the models"
   ]
  },
  {
   "cell_type": "code",
   "execution_count": 33,
   "metadata": {},
   "outputs": [],
   "source": [
    "year_fdf['fare/distance'] = year_fdf['fare_amount'] / year_fdf['trip_distance']\n",
    "month_fdf['fare/distance'] = month_fdf['fare_amount'] / month_fdf['trip_distance']\n",
    "\n",
    "quantile_year = year_fdf[year_fdf['fare/distance'] <= year_fdf['fare/distance'].quantile(0.03)]\n",
    "quantile_month = month_fdf[month_fdf['fare/distance'] <= month_fdf['fare/distance'].quantile(0.03)]"
   ]
  },
  {
   "cell_type": "code",
   "execution_count": 35,
   "metadata": {},
   "outputs": [],
   "source": [
    "year_fare_model = sm.OLS(quantile_year['fare_amount'], sm.add_constant(quantile_year['trip_distance'])).fit()\n",
    "month_fare_model = sm.OLS(quantile_month['fare_amount'], sm.add_constant(quantile_month['trip_distance'])).fit()\n",
    "\n",
    "year_fare_params = year_fare_model.params.values\n",
    "month_fare_params = month_fare_model.params.values"
   ]
  },
  {
   "cell_type": "markdown",
   "metadata": {},
   "source": [
    "#### Find the MSE"
   ]
  },
  {
   "cell_type": "code",
   "execution_count": 43,
   "metadata": {},
   "outputs": [
    {
     "name": "stdout",
     "output_type": "stream",
     "text": [
      "Year MSE: 284.2980587957826\n",
      "Year MSE: 67.46598843222199\n"
     ]
    }
   ],
   "source": [
    "test_fdf = month_fdata['2023-12']\n",
    "\n",
    "year_fpred = test_fdf['trip_distance'] * year_fare_params[1] + year_fare_params[0]\n",
    "month_fpred = test_fdf['trip_distance'] * month_fare_params[1] + month_fare_params[0]\n",
    "\n",
    "print(f'Year MSE: {mean_squared_error(test_fdf['fare_amount'], year_fpred)}')\n",
    "print(f'Year MSE: {mean_squared_error(test_fdf['fare_amount'], month_fpred)}')"
   ]
  },
  {
   "cell_type": "markdown",
   "metadata": {},
   "source": [
    "Again, the recency of the month data performs better."
   ]
  }
 ],
 "metadata": {
  "kernelspec": {
   "display_name": "research",
   "language": "python",
   "name": "python3"
  },
  "language_info": {
   "codemirror_mode": {
    "name": "ipython",
    "version": 3
   },
   "file_extension": ".py",
   "mimetype": "text/x-python",
   "name": "python",
   "nbconvert_exporter": "python",
   "pygments_lexer": "ipython3",
   "version": "3.12.4"
  }
 },
 "nbformat": 4,
 "nbformat_minor": 2
}
