{
 "cells": [
  {
   "cell_type": "code",
   "execution_count": 2,
   "metadata": {},
   "outputs": [],
   "source": [
    "import sys\n",
    "sys.path.append('../classes')\n",
    "\n",
    "from data_cleaner import TaxiDataCleaner\n",
    "import pandas as pd"
   ]
  },
  {
   "cell_type": "code",
   "execution_count": 4,
   "metadata": {},
   "outputs": [],
   "source": [
    "date_ptr = '2009-01'\n",
    "fields = {}\n",
    "data_path = '../data/monthly_data/yellow_taxi'\n",
    "save_path = '../data/clean_data'\n",
    "while date_ptr != '2024-01':\n",
    "    try:\n",
    "        file_path = f'{data_path}_{date_ptr}.parquet'\n",
    "        data_cleaner = TaxiDataCleaner(file_path)\n",
    "        data_cleaner.clean_data()\n",
    "        data_cleaner.write_data(f'{save_path}/{date_ptr}.parquet')\n",
    "        date_ptr = (pd.to_datetime(date_ptr) + pd.DateOffset(months=1)).strftime('%Y-%m')\n",
    "    except Exception as e:\n",
    "        date_ptr = (pd.to_datetime(date_ptr) + pd.DateOffset(months=1)).strftime('%Y-%m')\n",
    "        print(e)"
   ]
  }
 ],
 "metadata": {
  "kernelspec": {
   "display_name": "research",
   "language": "python",
   "name": "python3"
  },
  "language_info": {
   "codemirror_mode": {
    "name": "ipython",
    "version": 3
   },
   "file_extension": ".py",
   "mimetype": "text/x-python",
   "name": "python",
   "nbconvert_exporter": "python",
   "pygments_lexer": "ipython3",
   "version": "3.12.4"
  }
 },
 "nbformat": 4,
 "nbformat_minor": 2
}
