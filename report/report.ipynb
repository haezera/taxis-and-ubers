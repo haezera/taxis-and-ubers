{
 "cells": [
  {
   "cell_type": "markdown",
   "metadata": {},
   "source": [
    "## Analysis of 15 years of taxi data: fare, congestion, tips and more\n",
    "\n",
    "By Haeohreum Kim\n",
    "\n",
    "We began with the goal of creating a fare model for NYC rideshare trips, based on NYC taxi data that spanned 2009 - 2024. This project was end-to-end; and involved actions from data sourcing and cleaning, all the way to model selection and feature creation. \n",
    "\n",
    "### Data sourcing, and initial data issues\n",
    "\n",
    "The data is directly sourced from the New York City (NYC) Taxi & Limousine Commission (TLC). The data can be found below at this [link](https://www.nyc.gov/site/tlc/about/tlc-trip-record-data.page). The data is stored in parquet files, which is convenient and *fast* for pandas IO.\n",
    "\n",
    "There were initial issues with the column names across years, and how some years/months had geolocation data while other's didn't. Below is a demonstration of such issue."
   ]
  },
  {
   "cell_type": "markdown",
   "metadata": {},
   "source": []
  }
 ],
 "metadata": {
  "kernelspec": {
   "display_name": "research",
   "language": "python",
   "name": "python3"
  },
  "language_info": {
   "name": "python",
   "version": "3.12.4"
  }
 },
 "nbformat": 4,
 "nbformat_minor": 2
}
